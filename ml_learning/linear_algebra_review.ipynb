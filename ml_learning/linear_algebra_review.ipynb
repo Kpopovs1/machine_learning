{
 "cells": [
  {
   "cell_type": "markdown",
   "metadata": {},
   "source": [
    "## Linear Algebra Review\n",
    "\n",
    "Algebra is a field of mathematics that denotes rules for the interaction of different objects such as numbers, vectors, functions, and matrices. Linear Algebra specifically pertains to the study of linear functions and how they are represented with matrices and vectors, and is an integral piece of data science and machine learning. It makes use of two key data structures: matrices and vectors, in order to represent data (with all of its multiple variables) for supervised machine learning models: vectors often denote the output, while matrices denote the input.\n",
    "\n",
    "$\\color{Grey}{Matrices}$ are 2-Dimensional tables, or arrays of numbers, that represent a system of linear equations, and are organized into rows and columns (r*c), which denote its dimensions:\n",
    "\n",
    "\n",
    "$$x + -2y + z = 0$$\n",
    "\n",
    "$$ 2y - 8z = 8$$\n",
    "\n",
    "$$5x - 5z = 10$$\n",
    "\n",
    "$$\\begin{bmatrix}1 && -2 && 1\\\\0 && 2 && -8\\\\5 && 0 && -5\\end{bmatrix}$$\n",
    "\n",
    "\n",
    "$\\color{Grey} {Vectors \\space \\vec{v} }$ are matrices with one dimension. In physics vectors are represented as arrows from an origin point to an end point and have magnitude and direction:\n",
    "\n",
    "$$\n",
    "\\begin{bmatrix}0 \\\\ 8 \\\\ 10 \\end{bmatrix}\n",
    "$$\n",
    "\n",
    "\n",
    " $\\color{grey}{Note}:$ Two vectors in ${\\Bbb R}^2$ are equal only if their entries are equal, because they are ordered pairs of real numbers: $\\begin{bmatrix}0 \\\\ 8 \\\\ 10 \\end{bmatrix} {\\neq} \\begin{bmatrix}10 \\\\ 8 \\\\ 0 \\end{bmatrix}$\n",
    " \n",
    " \n",
    "A system of linear equations has one solution if there is one point of intersection, infinitely many solutions if all points intersect (all points are located on the same line), and no solutions if lines are parallel and thus have no points of intersection. in order to simplify and solve a system of linear equations, we use a combination of the following three operations:\n",
    "   1. Interchange two rows in the matrix\n",
    "   2. Replace a row by the summation of itself and the multiple or another row\n",
    "   3. Multiply terms in a row by a constant\n",
    "   \n",
    "\n",
    "$\\begin{bmatrix}1 && -2 && 1 && 0\\\\0 && 2 && -8 && 8\\\\5 && 0 && -5 && 10\\end{bmatrix}$ applying row reduction operations to the augmented matrix, we get the following: $\\begin{bmatrix}1 && 0 && 0 && 1\\\\0 && 1 && 0 && 0\\\\0 && 0 && 1 && -1\\end{bmatrix}$ \n",
    "\n",
    "The solution set is then (1,0,-1), and we can say that the system of linear equations is consistent.\n",
    "\n",
    "$\\color{Green}{Theorem:}$ A system of linear equations is consistent if it has one or an infinite number of solutions, and inconsistent if it has no solution. \n",
    "\n",
    "An example of an inconsistent system of linear equations if one where the augmented matrix contains a pivot column that is the leftmost column:\n",
    "\n",
    "$\\begin{bmatrix}1 && 0 && 0 && 1\\\\0 && 1 && 0 && -8\\\\0 && 0  && 0 && -7\\end{bmatrix}$\n"
   ]
  },
  {
   "cell_type": "markdown",
   "metadata": {},
   "source": [
    "$\\color{Green}{\\textbf{Row Echelon Form:}}$\n",
    "\n",
    "\n",
    "\n",
    "\n",
    "$\\color{Green}{\\textbf{Row Reduction Algorithm:}}$\n",
    "\n"
   ]
  },
  {
   "cell_type": "markdown",
   "metadata": {},
   "source": [
    "### TO DO"
   ]
  },
  {
   "cell_type": "markdown",
   "metadata": {},
   "source": [
    "## Vector and Matrix Operations \n",
    "\n",
    "$\\color{Green}{\\textbf{Vector Mutiplication:}}$\n",
    "\n",
    "Matrices of dimensions nx1 are $\\color{Grey}{Vectors}$ , and are represented as: ${v \\space \\in {\\Bbb R}^n}$. There are two ways to conduct vector multiplication:\n",
    "\n",
    "    \n",
    " 1. The cross product: $\\vec{c} = \\vec{a} \\space x \\space \\vec{b}$ outputs a vector $\\vec{c}$ that is orthogonal to the two linearly independed vectors $\\vec{a}$ and $\\vec{b}$. If the two vectors $\\vec{a}$ and $\\vec{b}$ are not linearly independent, have the same direction, or have a length of zero, then the cross product between them is zero. Below is the geometric formula for determing the cross product of two vectors, and the algebraic formula derived using the determinant.\n",
    "  \n",
    " $\\color{grey}{Geometric \\space Formula}: \\space \\vec{a} \\space x \\space \\vec{b} = |\\vec{a}||\\vec{b} |sin(\\theta)$\n",
    " \n",
    " in order to get the determinant, we use an orthogonal basis {${\\hat{\\textbf{i}}}, {\\hat{\\textbf{j}}}, {\\hat{\\textbf{k}}}$}\n",
    " \n",
    " \n",
    " \n",
    " \n",
    " $$ \\vec{a} \\space x \\space \\vec{b} =  \n",
    " \\left( \n",
    "\\begin{bmatrix} {\\hat{\\textbf{i}}} && {\\hat{\\textbf{j}}} && {\\hat{\\textbf{k}}} \\\\ a_x && a_y && a_z \\\\ b_x && b_y && b_z\\end{bmatrix} \n",
    "\\right) \n",
    "$$\n",
    " \n",
    " \n",
    " \n",
    " \n",
    " \n",
    " $$\\vec{a} \\space x \\space \\vec{b} = (a_x{\\hat{\\textbf{i}}} \\space + \\space a_y{\\hat{\\textbf{j}}} \\space + \\space a_z{\\hat{\\textbf{k}}} ) \\space x \\space (b_x{\\hat{\\textbf{i}}} \\space + \\space b_y{\\hat{\\textbf{j}}} \\space + \\space b_z{\\hat{\\textbf{k}}})$$ \n",
    " \n",
    " \n",
    " \n",
    " \n",
    " \n",
    "$$= (a_y b_z - a_z b_y){\\hat{\\textbf{i}}} , \\space (a_z b_x - a_x b_z){\\hat{\\textbf{j}}} , \\space (a_x b_y - a_y b_x){\\hat{\\textbf{k}}}$$\n",
    "\n",
    "  \n",
    "\n",
    "\n",
    "\n",
    "\n",
    "\n",
    "$$\\color{Grey}{For \\space example:}$$\n",
    "\n",
    "\n",
    "$$ \n",
    "\\left( \n",
    "\\begin{bmatrix}3 \\\\ -3 \\\\ 1\\end{bmatrix} \n",
    "x\n",
    "\\begin{bmatrix}4 \\\\ 9 \\\\ 2\\end{bmatrix} \n",
    "\\right) \n",
    "= \\begin{bmatrix}(-3*2) - (1*9) \\\\ (3*2) - (1*4) \\\\ (3*9) + (3*4)\\end{bmatrix}\n",
    "= (-15, -2, 39)\n",
    "$$\n",
    "\n",
    "\n",
    "\n",
    " 2. The dot product: $c = \\vec{a} * \\vec{b}$ outputs a scalar that is generated by multiplying the x-components and y-components separately. The product $c$ is essentially a projection of $\\vec{a}$ in the direction given by $\\vec{b}$. \n",
    " \n",
    " $\\vec{a} \\space * \\space \\vec{b} = c$\n",
    "\n",
    " $\\color{grey}{Geometric \\space Formula}: \\space \\vec{a} \\space * \\space \\vec{b} = |\\vec{a}||\\vec{b}|cos(\\theta)$\n",
    "\n",
    " $\\color{grey}{Algebraic \\space Formula}: \\space (a_x, a_y, a_z)\\space * \\space (b_x, b_y, b_z) = \\space (a_x b_x) \\space  + \\space  (a_y b_y) \\space + \\space (a_z b_z)$\n",
    " \n",
    "$$\\color{Grey}{For \\space example:}$$\n",
    "\n",
    "$$\n",
    "\\left( \n",
    "\\begin{bmatrix}3 \\\\ -3 \\\\ 1\\end{bmatrix} \n",
    "*\n",
    "\\begin{bmatrix}4 \\\\ 9 \\\\ 2\\end{bmatrix} \n",
    "\\right) \n",
    "= \\begin{bmatrix}(3*4) + (-3*9) + (1*2)\\end{bmatrix} = -13\n",
    "$$\n",
    "\n",
    "\n",
    "$\\color{Green}{\\textbf{Matrix Mutiplication:}}$\n",
    "\n",
    "Matrix multiplication is a little more complex than vector multiplication since there are multiple elements in both arrays, and the larger the matrix, the more time-consuming matrix multiplication is on computers and by hand. \n",
    "\n",
    "\n",
    "$\\color{Grey}{For \\space example:}$\n",
    "\n",
    "\n",
    "A, with dimensions m x n, and B, with dimensions n x k, are two matrices where the entries of A and B are real numbers. Their multiplication is denoted by matrix C with dimensions m x k. \n",
    "\n",
    "$${A \\in {\\Bbb R}^{m*n}}$$\n",
    "\n",
    "$${B \\in {\\Bbb R}^{n*k}}$$ \n",
    "\n",
    "$$C = AB \\in {\\Bbb R}^{m*k}$$\n",
    "\n",
    "$$ \n",
    "\\left( \n",
    "\\begin{bmatrix}a & d\\\\b & e\\\\c & f\\end{bmatrix} \n",
    "*\n",
    "\\begin{bmatrix}w & x\\\\y & z\\end{bmatrix}\n",
    "\\right)\n",
    "= \n",
    "\\begin{bmatrix}a*w + d*y & a*x + d*z\\\\b*w + e*y & b*x + e*z\\\\c*w + f*y & c*x + f*z\\end{bmatrix}\n",
    "$$\n",
    "\n",
    "$$ where \\space C_{ij} = \\sum_{t=1}^{n} A_{it}B_{tj}$$\n",
    "\n",
    "\n",
    "\n",
    "When multiplying a matrix by a vector, the product of matrix A and vector v is a vector: ${p = A v \\space \\in {\\Bbb R}^m }$\n",
    "\n",
    "$$\\color{Grey}{For \\space example:}$$\n",
    "\n",
    "$$\n",
    "\\left( \n",
    "\\begin{bmatrix}a & d\\\\b & e\\\\c & f\\end{bmatrix} \n",
    "*\n",
    "\\begin{bmatrix}x\\\\y\\end{bmatrix} \n",
    "\\right) \n",
    "= \\begin{bmatrix}a*x+d*y\\\\b*x+e*y\\\\c*x+f*y\\end{bmatrix}\n",
    "$$\n",
    "\n",
    "\n",
    "\n",
    "$\\color{Grey}{Note:}$ In order to multiply two matrices, the number of columns in A must match the number of rows in B, but the matrices do not need to have the same dimensions.\n",
    "\n"
   ]
  },
  {
   "cell_type": "code",
   "execution_count": 1,
   "metadata": {},
   "outputs": [
    {
     "name": "stdout",
     "output_type": "stream",
     "text": [
      "A= [ 3 -3  1]\n",
      "B= [4 9 2]\n",
      "Cross product: [-15  -2  39]\n",
      "Dot product: -13\n"
     ]
    }
   ],
   "source": [
    "# Simple Code Sample of Vector Cross Product and Dot Product using numpy\n",
    "import numpy as np\n",
    "import matplotlib.pyplot as plt\n",
    "\n",
    "a = np.array([3,-3,1])\n",
    "b = np.array([4,9,2])\n",
    "\n",
    "cross_prod = np.cross(a,b)\n",
    "dot_prod = np.dot(a,b)\n",
    "\n",
    "print 'A=', a\n",
    "print 'B=', b\n",
    "print 'Cross product:', cross_prod\n",
    "print 'Dot product:', dot_prod\n"
   ]
  },
  {
   "cell_type": "markdown",
   "metadata": {},
   "source": [
    "$\\color{Green}{\\textbf{Vector Addition:}}$\n",
    "\n",
    "\n",
    "Vector addition, $\\vec{c}$ = $\\vec{a}$ + $\\vec{b}\n",
    "$, can be simply computed by as such:\n",
    "\n",
    "$\\left(\n",
    "\\begin{bmatrix} x \\\\ y\\end{bmatrix}\n",
    "+\n",
    "\\begin{bmatrix} i \\\\ j\\end{bmatrix} \n",
    "\\right)\n",
    "=\n",
    "\\begin{bmatrix} x+i \\\\ y+j\\end{bmatrix}\n",
    "$\n",
    "\n",
    "For this example:\n",
    "\n",
    "$\\left(\n",
    "\\begin{bmatrix} 1 \\\\ 6\\end{bmatrix}\n",
    "+\n",
    "\\begin{bmatrix} 4 \\\\ 2\\end{bmatrix} \n",
    "\\right)\n",
    "=\n",
    "\\begin{bmatrix} 5 \\\\ 8\\end{bmatrix}\n",
    "$\n",
    "\n",
    "The vector addition is shown in the code sample below:"
   ]
  },
  {
   "cell_type": "code",
   "execution_count": 2,
   "metadata": {},
   "outputs": [
    {
     "name": "stdout",
     "output_type": "stream",
     "text": [
      "[1 6] + [4 2] = [5 8]\n"
     ]
    },
    {
     "data": {
      "image/png": "[encoded data removed]",
      "text/plain": [
       "<Figure size 432x288 with 1 Axes>"
      ]
     },
     "metadata": {},
     "output_type": "display_data"
    }
   ],
   "source": [
    "# Simple Code Sample of Vector Addition\n",
    "v_1 = np.array([1,6])\n",
    "v_2 = np.array([4,2])\n",
    "v_add = v_1 + v_2\n",
    "print v_1, '+', v_2, '=', v_add\n",
    "\n",
    "origin = [0],[0]\n",
    "plt.quiver(origin[0], origin[1], v_1, v_2, color=['r','b','g'], scale=21)\n",
    "plt.quiver(origin[0], origin[1], v_add[0], v_add[1])\n",
    "plt.grid(b=True, which='major')\n",
    "\n",
    "plt.show()"
   ]
  },
  {
   "cell_type": "markdown",
   "metadata": {},
   "source": [
    "$\\color{Green}{\\textbf{Matrix Addition:}}$\n",
    "\n",
    "Matrix addition, C = A + B, can be simply computed by as such:\n",
    "\n",
    "$\n",
    "\\left( \n",
    "\\begin{bmatrix}a & b\\\\c & d\\end{bmatrix} \n",
    "+\n",
    "\\begin{bmatrix}w & x\\\\y & z\\end{bmatrix} \n",
    "\\right)\n",
    "= \n",
    "\\begin{bmatrix}a+w & b+x\\\\c+y & d+z\\end{bmatrix}\n",
    "$\n",
    "\n",
    "$\\color{Grey}{Note:}$ In order to add or subtract two matrices, they must have the same dimensions."
   ]
  },
  {
   "cell_type": "code",
   "execution_count": null,
   "metadata": {},
   "outputs": [],
   "source": [
    "# Simple Code Sample of Matrix Multiplication and Matrix Addition\n",
    "a = np.matrix([ [5, 6], [1, 4], [1, 0] ]) #3x2 matrix\n",
    "b = np.matrix([ [3, 9], [1, 5] ]) #2x2 matrix\n",
    "c = a * b\n",
    "print '\\nC=\\n', c\n",
    "\n",
    "d = np.matrix([ [1, 8], [12, 7], [20, 0] ]) #3x2 matrix\n",
    "e = a + d\n",
    "print '\\nE=\\n', e\n"
   ]
  },
  {
   "cell_type": "markdown",
   "metadata": {},
   "source": [
    "$\\color{Green}{\\textbf{properties of Matrix Operations:}}$\n",
    "\n",
    "\n",
    "   1. They are Associative: A(BC) = (AB)C\n",
    "   2. They are Distributive: A(B+C) = AB + AC\n",
    "   3. They are NOT Commutative: AB ${\\neq}$ BA"
   ]
  },
  {
   "cell_type": "code",
   "execution_count": 4,
   "metadata": {
    "scrolled": true
   },
   "outputs": [
    {
     "name": "stdout",
     "output_type": "stream",
     "text": [
      "Associative:\n",
      "A*(B*C)=\n",
      "[[1014 1110]\n",
      " [ 382  418]\n",
      " [ 126  138]]\n",
      "\n",
      "(A*B)*C=\n",
      "[[1014 1110]\n",
      " [ 382  418]\n",
      " [ 126  138]] \n",
      "\n",
      "---------------------------\n",
      "\n",
      "Distributive:\n",
      "A*(B+C)=\n",
      "[[132 197]\n",
      " [ 60  87]\n",
      " [ 12  19]]\n",
      "\n",
      "AB+AC=\n",
      "[[132 197]\n",
      " [ 60  87]\n",
      " [ 12  19]] \n",
      "\n",
      "---------------------------\n",
      "\n",
      "Not Commutative:\n",
      "A*B=\n",
      "[[20 58 65]\n",
      " [ 4 20 41]\n",
      " [ 4  8  1]]\n",
      "\n",
      "B*A=\n",
      "[[29 56]\n",
      " [13 12]]\n"
     ]
    }
   ],
   "source": [
    "# 1. demonstrating associative property:\n",
    "c_1 = np.matrix([ [9, 10], [11, 12] ])\n",
    "print(\"Associative:\")\n",
    "print 'A*(B*C)=\\n',a*(b*c_1)\n",
    "print '\\n(A*B)*C=\\n',(a*b)*c_1, '\\n'\n",
    "\n",
    "\n",
    "print '---------------------------'\n",
    "\n",
    "\n",
    "# 2. demonstrating distributive property:\n",
    "print(\"\\nDistributive:\")\n",
    "print 'A*(B+C)=\\n', a*(b+c_1)\n",
    "print '\\nAB+AC=\\n', a*b + a*c_1, '\\n'\n",
    "\n",
    "\n",
    "print '---------------------------'\n",
    "\n",
    "\n",
    "# 3. demonstrating non_commutative property:\n",
    "b_1 = np.matrix([ [4, 8, 1], [0, 3, 10] ])\n",
    "print(\"\\nNot Commutative:\")\n",
    "print 'A*B=\\n', a*b_1\n",
    "print '\\nB*A=\\n', b_1*a"
   ]
  },
  {
   "cell_type": "markdown",
   "metadata": {},
   "source": [
    "## Types of Matrices\n",
    "\n",
    "\n",
    "$\\color{Green}{\\textbf{Identity Matrix:}}$\n",
    "\n",
    "An identity matrix, $\\color{grey}I$, is a square matrix that has 1's along its main diagonal and 0's everywhere else. When a matrix is multiplied by the Identity matrix, it remains the same.  \n",
    "\n",
    "\n",
    "$$I \\in {\\Bbb R}^{n*n}$$\n",
    "\n",
    "$$\n",
    "\\begin{bmatrix} 1 & 0 & 0 & ... & 0\\\\0 & 1 & 0 & ... & 0\\\\0 & 0 & 1 & ... & 0\\\\ ... & ... & ... & ... & ...\\\\0 & 0 & 0 & 0 & 1\\end{bmatrix}\n",
    "$$\n",
    "\n",
    "\n",
    "$$For \\space all \\space matrices \\space M \\in {\\Bbb R}^{m*n}, MI = IM = M$$"
   ]
  },
  {
   "cell_type": "code",
   "execution_count": 5,
   "metadata": {},
   "outputs": [
    {
     "name": "stdout",
     "output_type": "stream",
     "text": [
      "[[1. 0. 0. 0.]\n",
      " [0. 1. 0. 0.]\n",
      " [0. 0. 1. 0.]\n",
      " [0. 0. 0. 1.]]\n"
     ]
    }
   ],
   "source": [
    "#Creating a 4x4 identity matrix using numpy\n",
    "I = np.identity(4)\n",
    "print I"
   ]
  },
  {
   "cell_type": "markdown",
   "metadata": {},
   "source": [
    "$\\color{Green}{\\textbf{Symmetric Matrix:}}$\n",
    "\n",
    "A symmetric matrix is a square matrix that is mirrored about its main diagonal. Symmetric matrices have interchangeable rows and columns, so a symmetric matrix A is equal to its transpose $A^T$."
   ]
  },
  {
   "cell_type": "code",
   "execution_count": 6,
   "metadata": {},
   "outputs": [
    {
     "name": "stdout",
     "output_type": "stream",
     "text": [
      "A=\n",
      "[[ 5  4  0]\n",
      " [ 4 10  8]\n",
      " [ 0  8 12]]\n",
      "\n",
      "Transpose of A=\n",
      "[[ 5  4  0]\n",
      " [ 4 10  8]\n",
      " [ 0  8 12]]\n"
     ]
    }
   ],
   "source": [
    "symmetric_A = np.matrix([ [5, 4, 0], [4, 10, 8], [0, 8, 12] ])\n",
    "transpose_A = np.transpose(symmetric_A)\n",
    "\n",
    "print 'A=\\n', symmetric_A\n",
    "print '\\nTranspose of A=\\n', transpose_A"
   ]
  },
  {
   "cell_type": "markdown",
   "metadata": {},
   "source": [
    "$\\color{Green}{\\textbf{Orthogonal Matrix:}}$\n",
    "\n",
    "An orthogonal matrix is a square matrix with rows and columns as orthonormal vectors.\n"
   ]
  },
  {
   "cell_type": "markdown",
   "metadata": {},
   "source": [
    "$\\color{Green}{\\textbf{Triangular Matrix:}}$\n",
    "\n",
    "An $\\color{grey}{\\textbf{upper}}$ triangular matrix is a square matrix where all of the entries below the main diagonal are 0s. \n",
    "\n",
    "$$\n",
    "\\begin{bmatrix}14 && 8 && 18 && 4\\\\{\\textbf{0}} && 78 && 36 && 10\\\\{\\textbf{0}} && {\\textbf{0}} && 20 && 2\\\\ {\\textbf{0}} && {\\textbf{0}} && {\\textbf{0}} && 5\\end{bmatrix}\n",
    "$$\n",
    "\n",
    "\n",
    "\n",
    "A $\\color{grey}{\\textbf{lower}}$ triangular matrix is a square matrix where all of the entries above the main diagonal are 0s. \n",
    "\n",
    "$$\n",
    "\\begin{bmatrix}5 && {\\textbf{0}} && {\\textbf{0}} && {\\textbf{0}}\\\\7 && 34 && {\\textbf{0}} && {\\textbf{0}}\\\\77 && 6 && 9 && {\\textbf{0}}\\\\4 && 12 && 8 && 10\\end{bmatrix}\n",
    "$$"
   ]
  },
  {
   "cell_type": "markdown",
   "metadata": {},
   "source": [
    "$\\color{Green}{\\textbf{Diagonal Matrix:}}$\n",
    "\n",
    "A diagonal matrix is a square matrix that is both upper triangular and lower triangular:\n",
    "\n",
    "$$\n",
    "\\begin{bmatrix}d_{11} & 0 & 0 & ... & 0\\\\0 & d_{22} & 0 & ... & 0\\\\0 & 0 & d_{33} & ... & 0\\\\ ... & ... & ... & ... & ...\\\\0 & 0 & 0 & 0 & d_{mn}\\end{bmatrix}\n",
    "$$\n"
   ]
  },
  {
   "cell_type": "markdown",
   "metadata": {},
   "source": [
    "$\\color{Green}{\\textbf{The Transpose:}}$\n",
    "\n",
    "The transpose of a matrix $M$ is the matrix $M^T$ where the rows and columns are flipped and has the following properties:\n",
    "\n",
    "   1. $(A^T)^T = A$\n",
    "   2. $(AB)^T = B^T A^T$\n",
    "   3. $(A+B)^T = A^T + B^T$\n",
    "\n",
    "\n",
    "\n",
    "\n",
    "$S \\in {\\Bbb R}^{n*n}$ is a symmetric matrix when $S = S^T$\n"
   ]
  },
  {
   "cell_type": "code",
   "execution_count": 4,
   "metadata": {},
   "outputs": [
    {
     "name": "stdout",
     "output_type": "stream",
     "text": [
      "M:\n",
      "[[ 6 12]\n",
      " [ 7 14]]\n",
      "\n",
      "M Transpose:\n",
      "[[ 6  7]\n",
      " [12 14]]\n",
      "\n",
      "Transpose of M Transpose:\n",
      "[[ 6 12]\n",
      " [ 7 14]]\n",
      "\n",
      "M*N Transpose:\n",
      "[[156 182]\n",
      " [312 364]]\n",
      "\n",
      "M Transpose * N Transpose:\n",
      "[[156 182]\n",
      " [312 364]]\n",
      "\n",
      "M + N Transpose:\n",
      "[[14 16]\n",
      " [28 32]]\n",
      "\n",
      "M Transpose + N Transpose:\n",
      "[[14 16]\n",
      " [28 32]]\n"
     ]
    }
   ],
   "source": [
    "m = np.matrix([ [6, 12], [7, 14] ])\n",
    "n = np.matrix([ [8, 16], [9, 18] ])\n",
    "\n",
    "print 'M:\\n', m\n",
    "print '\\nM Transpose:\\n', np.transpose(m)\n",
    "\n",
    "print '\\nTranspose of M Transpose:\\n', np.transpose(np.transpose(m))\n",
    "\n",
    "print '\\nM*N Transpose:\\n', np.transpose(m*n)\n",
    "print '\\nM Transpose * N Transpose:\\n', np.transpose(n) * np.transpose(m)\n",
    "\n",
    "print '\\nM + N Transpose:\\n', np.transpose(m + n)\n",
    "print '\\nM Transpose + N Transpose:\\n', np.transpose(m) + np.transpose(n)\n"
   ]
  },
  {
   "cell_type": "markdown",
   "metadata": {},
   "source": [
    "\n",
    "\n"
   ]
  }
 ],
 "metadata": {
  "kernelspec": {
   "display_name": "Python 2",
   "language": "python",
   "name": "python2"
  },
  "language_info": {
   "codemirror_mode": {
    "name": "ipython",
    "version": 3
   },
   "file_extension": ".py",
   "mimetype": "text/x-python",
   "name": "python",
   "nbconvert_exporter": "python",
   "pygments_lexer": "ipython3",
   "version": "3.6.5"
  }
 },
 "nbformat": 4,
 "nbformat_minor": 2
}
